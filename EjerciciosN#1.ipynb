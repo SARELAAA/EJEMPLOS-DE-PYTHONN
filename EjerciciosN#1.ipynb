{
 "cells": [
  {
   "cell_type": "markdown",
   "id": "b9f7e3a2",
   "metadata": {},
   "source": [
    "# Ejercicios en python"
   ]
  },
  {
   "cell_type": "markdown",
   "id": "14c4043f",
   "metadata": {},
   "source": [
    "# Ejm1\n",
    "Definir una función max() que tome como argumento dos números y devuelva el mayor de ellos."
   ]
  },
  {
   "cell_type": "code",
   "execution_count": 25,
   "id": "786b8eab",
   "metadata": {},
   "outputs": [],
   "source": [
    "def comp(numenor,numayor):\n",
    "    if numenor < numayor:\n",
    "        print(\"{} es mayor que {}\".format(numayor,numenor))\n",
    "    elif numenor>numayor:\n",
    "        print(\"{} es mayor que {}\".format(numenor,numayor))\n",
    "    else:\n",
    "        print(\"son el mismo numero\")\n",
    "                \n",
    "    if  __name__ == '__main__':\n",
    "        num1=float(raw_input(\"ingresa un numero:\"))\n",
    "        num2=float(raw_input(\"ingresa otro numero:\"))\n",
    "        comp(num1,num2)\n",
    "        "
   ]
  },
  {
   "cell_type": "code",
   "execution_count": 26,
   "id": "db47d9a4",
   "metadata": {},
   "outputs": [
    {
     "name": "stdout",
     "output_type": "stream",
     "text": [
      "100 es mayor que 99\n",
      "ingresa un numero:102\n",
      "ingresa otro numero:12\n",
      "102.0 es mayor que 12.0\n",
      "ingresa un numero:m\n"
     ]
    },
    {
     "ename": "ValueError",
     "evalue": "could not convert string to float: 'm'",
     "output_type": "error",
     "traceback": [
      "\u001b[1;31m---------------------------------------------------------------------------\u001b[0m",
      "\u001b[1;31mValueError\u001b[0m                                Traceback (most recent call last)",
      "\u001b[1;32m<ipython-input-26-d3344b1c1135>\u001b[0m in \u001b[0;36m<module>\u001b[1;34m\u001b[0m\n\u001b[1;32m----> 1\u001b[1;33m \u001b[0mcomp\u001b[0m\u001b[1;33m(\u001b[0m\u001b[1;36m100\u001b[0m\u001b[1;33m,\u001b[0m\u001b[1;36m99\u001b[0m\u001b[1;33m)\u001b[0m\u001b[1;33m\u001b[0m\u001b[1;33m\u001b[0m\u001b[0m\n\u001b[0m",
      "\u001b[1;32m<ipython-input-25-6cf1595b9887>\u001b[0m in \u001b[0;36mcomp\u001b[1;34m(numenor, numayor)\u001b[0m\n\u001b[0;32m     10\u001b[0m         \u001b[0mnum1\u001b[0m\u001b[1;33m=\u001b[0m\u001b[0mfloat\u001b[0m\u001b[1;33m(\u001b[0m\u001b[0mraw_input\u001b[0m\u001b[1;33m(\u001b[0m\u001b[1;34m\"ingresa un numero:\"\u001b[0m\u001b[1;33m)\u001b[0m\u001b[1;33m)\u001b[0m\u001b[1;33m\u001b[0m\u001b[1;33m\u001b[0m\u001b[0m\n\u001b[0;32m     11\u001b[0m         \u001b[0mnum2\u001b[0m\u001b[1;33m=\u001b[0m\u001b[0mfloat\u001b[0m\u001b[1;33m(\u001b[0m\u001b[0mraw_input\u001b[0m\u001b[1;33m(\u001b[0m\u001b[1;34m\"ingresa otro numero:\"\u001b[0m\u001b[1;33m)\u001b[0m\u001b[1;33m)\u001b[0m\u001b[1;33m\u001b[0m\u001b[1;33m\u001b[0m\u001b[0m\n\u001b[1;32m---> 12\u001b[1;33m         \u001b[0mcomp\u001b[0m\u001b[1;33m(\u001b[0m\u001b[0mnum1\u001b[0m\u001b[1;33m,\u001b[0m\u001b[0mnum2\u001b[0m\u001b[1;33m)\u001b[0m\u001b[1;33m\u001b[0m\u001b[1;33m\u001b[0m\u001b[0m\n\u001b[0m\u001b[0;32m     13\u001b[0m         \u001b[0mdoMySetupStuff\u001b[0m\u001b[1;33m(\u001b[0m\u001b[1;33m)\u001b[0m\u001b[1;33m\u001b[0m\u001b[1;33m\u001b[0m\u001b[0m\n",
      "\u001b[1;32m<ipython-input-25-6cf1595b9887>\u001b[0m in \u001b[0;36mcomp\u001b[1;34m(numenor, numayor)\u001b[0m\n\u001b[0;32m      8\u001b[0m \u001b[1;33m\u001b[0m\u001b[0m\n\u001b[0;32m      9\u001b[0m     \u001b[1;32mif\u001b[0m  \u001b[0m__name__\u001b[0m \u001b[1;33m==\u001b[0m \u001b[1;34m'__main__'\u001b[0m\u001b[1;33m:\u001b[0m\u001b[1;33m\u001b[0m\u001b[1;33m\u001b[0m\u001b[0m\n\u001b[1;32m---> 10\u001b[1;33m         \u001b[0mnum1\u001b[0m\u001b[1;33m=\u001b[0m\u001b[0mfloat\u001b[0m\u001b[1;33m(\u001b[0m\u001b[0mraw_input\u001b[0m\u001b[1;33m(\u001b[0m\u001b[1;34m\"ingresa un numero:\"\u001b[0m\u001b[1;33m)\u001b[0m\u001b[1;33m)\u001b[0m\u001b[1;33m\u001b[0m\u001b[1;33m\u001b[0m\u001b[0m\n\u001b[0m\u001b[0;32m     11\u001b[0m         \u001b[0mnum2\u001b[0m\u001b[1;33m=\u001b[0m\u001b[0mfloat\u001b[0m\u001b[1;33m(\u001b[0m\u001b[0mraw_input\u001b[0m\u001b[1;33m(\u001b[0m\u001b[1;34m\"ingresa otro numero:\"\u001b[0m\u001b[1;33m)\u001b[0m\u001b[1;33m)\u001b[0m\u001b[1;33m\u001b[0m\u001b[1;33m\u001b[0m\u001b[0m\n\u001b[0;32m     12\u001b[0m         \u001b[0mcomp\u001b[0m\u001b[1;33m(\u001b[0m\u001b[0mnum1\u001b[0m\u001b[1;33m,\u001b[0m\u001b[0mnum2\u001b[0m\u001b[1;33m)\u001b[0m\u001b[1;33m\u001b[0m\u001b[1;33m\u001b[0m\u001b[0m\n",
      "\u001b[1;31mValueError\u001b[0m: could not convert string to float: 'm'"
     ]
    }
   ],
   "source": [
    "comp(100,99)"
   ]
  },
  {
   "cell_type": "markdown",
   "id": "b8dc33ab",
   "metadata": {},
   "source": [
    "# Ejm2\n",
    "Escribir una función que tome un carácter y devuelva True si es una vocal, de lo contrario devuelve False."
   ]
  },
  {
   "cell_type": "code",
   "execution_count": 27,
   "id": "52d3126b",
   "metadata": {},
   "outputs": [],
   "source": [
    "def VocalTF(letra):\n",
    "    if letra==\"a\" or letra==\"e\" or letra==\"i\" or letra==\"o\" or  letra==\"u\" :\n",
    "        return True\n",
    "    else:\n",
    "        return False\n",
    "    if __name__==\"__main__\":\n",
    "        le=str(raw_input(\"ingresa una letra:\"))\n",
    "        var=VocalTF(le)\n",
    "        if var==True:\n",
    "            print(\"es vocal\")\n",
    "        else:\n",
    "            print(\"no es vocal\")"
   ]
  },
  {
   "cell_type": "code",
   "execution_count": 28,
   "id": "d62c47be",
   "metadata": {},
   "outputs": [
    {
     "data": {
      "text/plain": [
       "True"
      ]
     },
     "execution_count": 28,
     "metadata": {},
     "output_type": "execute_result"
    }
   ],
   "source": [
    "VocalTF(\"a\")"
   ]
  },
  {
   "cell_type": "code",
   "execution_count": 29,
   "id": "9d5f1dd2",
   "metadata": {},
   "outputs": [
    {
     "data": {
      "text/plain": [
       "False"
      ]
     },
     "execution_count": 29,
     "metadata": {},
     "output_type": "execute_result"
    }
   ],
   "source": [
    "VocalTF(\"t\")"
   ]
  },
  {
   "cell_type": "markdown",
   "id": "63e6d9c5",
   "metadata": {},
   "source": [
    "# Ejm3\n",
    "Se necesita obtener el promedio simple de un estudiante a partir de sus tres notas parciales N1, N2 y N3. "
   ]
  },
  {
   "cell_type": "code",
   "execution_count": 31,
   "id": "47da15d6",
   "metadata": {},
   "outputs": [
    {
     "name": "stdout",
     "output_type": "stream",
     "text": [
      "__________________________________________\n",
      "\n",
      "Ejercicio del promedio de tres notas\n",
      "__________________________________________\n",
      "Ingresa las tres notas de un alumno \n",
      "N1:12\n",
      "N2:15\n",
      "N3:18\n",
      "\n",
      "Salida:\n",
      "15.0\n"
     ]
    }
   ],
   "source": [
    "print(\"__________________________________________\")\n",
    "print(\"\\nEjercicio del promedio de tres notas\")\n",
    "print(\"__________________________________________\")\n",
    "\n",
    "#entradas\n",
    "print(\"Ingresa las tres notas de un alumno \")\n",
    "N1= int(input(\"N1:\"))\n",
    "N2= int(input(\"N2:\"))\n",
    "N3= int(input(\"N3:\"))\n",
    "\n",
    "#proceso\n",
    "P=(N1+N2+N3)/3\n",
    "print(\"\\nSalida:\")\n",
    "print(P)"
   ]
  },
  {
   "cell_type": "markdown",
   "id": "aac98d5b",
   "metadata": {},
   "source": [
    "# EJM4\n",
    "Si tengo una cantidad de soles, dar su equivalente en dólares y después en euros. Se sabe que 1 dólar =3.25 soles y 1 euro=3.83 soles. "
   ]
  },
  {
   "cell_type": "code",
   "execution_count": 32,
   "id": "ec968eb9",
   "metadata": {},
   "outputs": [
    {
     "name": "stdout",
     "output_type": "stream",
     "text": [
      "---------------------------------\n",
      "Convertir soles a dolares y euros\n",
      "---------------------------------\n",
      "Ingresa la cantidad de soles :\n",
      "100\n",
      "\n",
      "Salida\n",
      "---------------------\n",
      "En 100.0 soles hay 26.109660574412533 euros\n",
      "En 100.0 soles hay 30.76923076923077 dolares\n"
     ]
    }
   ],
   "source": [
    "print(\"---------------------------------\")\n",
    "print(\"Convertir soles a dolares y euros\")\n",
    "print(\"---------------------------------\")\n",
    "\n",
    "# constante\n",
    "dolar=3.25\n",
    "euro=3.83\n",
    "\n",
    "# entradas\n",
    "print(\"Ingresa la cantidad de soles :\")\n",
    "s=float(input())\n",
    "\n",
    "# proceso\n",
    "d=s/dolar\n",
    "e=s/euro\n",
    "\n",
    "#salida\n",
    "print(\"\\nSalida\")\n",
    "print(\"---------------------\")\n",
    "print(\"En\",s,\"soles hay\",e,\"euros\")\n",
    "print(\"En\",s,\"soles hay\",d,\"dolares\")"
   ]
  },
  {
   "cell_type": "markdown",
   "id": "d49665fa",
   "metadata": {},
   "source": [
    "# Ejm5\n",
    "Mostrar los nùmeros impares entre el 0 y el 100"
   ]
  },
  {
   "cell_type": "code",
   "execution_count": 41,
   "id": "9f95e93b",
   "metadata": {},
   "outputs": [],
   "source": [
    "numeros = []\n",
    "\n",
    "numero = 0\n",
    "while numero<100:\n",
    "    numero+=1\n",
    "    if numero%2!= 0:\n",
    "        numeros.append(numero)\n"
   ]
  },
  {
   "cell_type": "code",
   "execution_count": 45,
   "id": "629be941",
   "metadata": {},
   "outputs": [
    {
     "name": "stdout",
     "output_type": "stream",
     "text": [
      "41\n"
     ]
    }
   ],
   "source": [
    "print(numeros[20])"
   ]
  },
  {
   "cell_type": "markdown",
   "id": "c4f316fa",
   "metadata": {},
   "source": [
    "# EJM 6 \n",
    " La jornada de trabajo es de 48 horas, calcular dada las horas trabajadas  con el valor por hora. Mostrar su salario e indicar las horas extras si se excede de la jornada."
   ]
  },
  {
   "cell_type": "code",
   "execution_count": 5,
   "id": "8c60abd7",
   "metadata": {},
   "outputs": [],
   "source": [
    "from tkinter import *\n",
    "import tkinter as tk"
   ]
  },
  {
   "cell_type": "code",
   "execution_count": 6,
   "id": "f1cf5620",
   "metadata": {},
   "outputs": [
    {
     "name": "stdout",
     "output_type": "stream",
     "text": [
      " horas trabajadas :\n",
      "60\n",
      " La jornada es :\n",
      "48  horas\n",
      " horas trabajadas extras :\n",
      "12\n",
      " Pago de horas extras :\n",
      "240\n",
      " El pago por su jornada es :\n",
      "960  soles\n"
     ]
    }
   ],
   "source": [
    "jornada = 48\n",
    "vh = 15\n",
    "he = 20\n",
    "ht = 60\n",
    "print(\" horas trabajadas :\")\n",
    "print (ht)\n",
    "print(\" La jornada es :\")\n",
    "print (jornada, \" horas\")\n",
    "if(ht > jornada):\n",
    "   hte = ht - jornada\n",
    "   print (\" horas trabajadas extras :\")\n",
    "   print (hte)\n",
    "else:\n",
    "   print(\"No tiene horas extras\")\n",
    "phe = he * hte\n",
    "print(\" Pago de horas extras :\")\n",
    "print (phe)\n",
    "pj = (jornada * vh)+ phe\n",
    "print(\" El pago por su jornada es :\")\n",
    "print (pj, \" soles\")"
   ]
  },
  {
   "cell_type": "code",
   "execution_count": null,
   "id": "4af22d3e",
   "metadata": {},
   "outputs": [],
   "source": [
    "ventana = tk.Tk()\n",
    "ventana = Frame(height=290,width=530)\n",
    "ventana.pack(padx=5,pady=5)\n",
    "entrada=tk.StringVar()\n",
    "\n",
    "def calculando():\n",
    "   resultado= tiempo.get()\n",
    "   Label(text=resultado,font=(\"Broadway\",15),fg=\"blue\").place(width=50,x=300,y=120)\n",
    "   horaex = int(tiempo.get())- (jornal)\n",
    "   Label(text=horaex,font=(\"Broadway\",15),fg=\"blue\").place(width=50,x=300,y=150)\n",
    "   pagohe = int(horaex)*(valorhe)\n",
    "   Label(text=pagohe,font=(\"Broadway\",15),fg=\"blue\").place(width=50,x=310,y=180) \n",
    "   sueldoj = int(jornal) * int(valorj)\n",
    "   totalp = int(pagohe) + (sueldoj)\n",
    "   total.set(totalp) \n",
    "jornal= 48\n",
    "valorj = 15\n",
    "valorhe= 20\n",
    "titu = Label( text=\" ****** JORNADA DE TRABAJO *****\", font=(\"Arial\",18)).place(x=80,y=0)\n",
    "horanormal = Label(text=\"Valor de hora normal: S/. 15\", font=(\"Arial\",12)).place(x=50,y=30)\n",
    "horaextra = Label(text=\"Valor de hora extra: S/. 20\", font=(\"Arial\",12)).place(x=50,y=60)\n",
    "horast = Label( text=\"Ingresar horas trabajadas:\", font=(\"Arial\",15)).place(x=50,y=90)\n",
    "horatrabajada = Label(text=\"Horas trabajadas : \", font=(\"Arial\",12)).place(x=50,y=130)\n",
    "cantidadhe = Label( text=\" horas extras:\", font=(\"Arial\",13)).place(x=50,y=160)\n",
    "costohe = Label( text=\" Pago de horas extras:\", font=(\"Arial\",13)).place(x=50,y=190)\n",
    "etiqueta2 = Label( text=\"Pago total:\", font=(\"Arial\",15)).place(x=50,y=220)\n",
    "\n",
    "tiempo = StringVar()\n",
    "ht =tk.Entry(textvariable=tiempo).place(width=200, x=300,y=95)\n",
    "\n",
    "total = StringVar()\n",
    "tt = Entry(text=total).place(width=200, x=300,y=230)\n",
    "\n",
    "boton=Button(text=\"Calcular\", command=calculando).place(width=150, x=80,y=250)\n",
    "ventana.mainloop()"
   ]
  },
  {
   "cell_type": "markdown",
   "id": "b94d828b",
   "metadata": {},
   "source": [
    "# EJM6 \n",
    "Escribe un programa que encuentre todos los números de este tipo que sean divisibles por 7 pero que no sean múltiplos de 5,\n",
    "entre 2000 y 3200 (ambos incluidos).\n",
    "Los números obtenidos deben imprimirse en una secuencia separada por comas en una sola línea"
   ]
  },
  {
   "cell_type": "code",
   "execution_count": 3,
   "id": "f87037e8",
   "metadata": {},
   "outputs": [
    {
     "name": "stdout",
     "output_type": "stream",
     "text": [
      "2002,2009,2016,2023,2037,2044,2051,2058,2072,2079,2086,2093,2107,2114,2121,2128,2142,2149,2156,2163,2177,2184,2191,2198,2212,2219,2226,2233,2247,2254,2261,2268,2282,2289,2296,2303,2317,2324,2331,2338,2352,2359,2366,2373,2387,2394,2401,2408,2422,2429,2436,2443,2457,2464,2471,2478,2492,2499,2506,2513,2527,2534,2541,2548,2562,2569,2576,2583,2597,2604,2611,2618,2632,2639,2646,2653,2667,2674,2681,2688,2702,2709,2716,2723,2737,2744,2751,2758,2772,2779,2786,2793,2807,2814,2821,2828,2842,2849,2856,2863,2877,2884,2891,2898,2912,2919,2926,2933,2947,2954,2961,2968,2982,2989,2996,3003,3017,3024,3031,3038,3052,3059,3066,3073,3087,3094,3101,3108,3122,3129,3136,3143,3157,3164,3171,3178,3192,3199\n"
     ]
    }
   ],
   "source": [
    "l=[]\n",
    "for i in range(2000, 3201):\n",
    "    if (i%7==0) and (i%5!=0):\n",
    "        l.append(str(i))\n",
    "\n",
    "print (','.join(l))"
   ]
  },
  {
   "cell_type": "markdown",
   "id": "7898fbac",
   "metadata": {},
   "source": [
    "# EJM 7\n",
    "\n",
    "Con un número integral n dado, escriba un programa para generar un diccionario que contenga (i, i*i) tal que sea un número integral entre 1 y n (ambos incluidos). y luego el programa debe imprimir el diccionario.\n",
    "Suponga que se suministra la siguiente entrada al programa:\n",
    "8\n",
    "Entonces, la salida debería ser:\n",
    "{1: 1, 2: 4, 3: 9, 4: 16, 5: 25, 6: 36, 7: 49, 8: 64}\n",
    "\n",
    "Sugerencias:\n",
    "En caso de que se suministren datos de entrada a la pregunta, debe asumirse que se trata de una entrada de consola.\n",
    "Considere el uso de dict()"
   ]
  },
  {
   "cell_type": "code",
   "execution_count": 20,
   "id": "8ae1b656",
   "metadata": {},
   "outputs": [
    {
     "name": "stdout",
     "output_type": "stream",
     "text": [
      "18\n",
      "{1: 1, 2: 4, 3: 9, 4: 16, 5: 25, 6: 36, 7: 49, 8: 64, 9: 81, 10: 100, 11: 121, 12: 144, 13: 169, 14: 196, 15: 225, 16: 256, 17: 289, 18: 324}\n"
     ]
    }
   ],
   "source": [
    "n=int( input())\n",
    "d=dict()\n",
    "for i in range(1,n+1):\n",
    "    d[i]=i*i\n",
    "\n",
    "print (d)"
   ]
  },
  {
   "cell_type": "markdown",
   "id": "a5037e50",
   "metadata": {},
   "source": [
    "# EJM 8\n",
    "Con un número integral n dado, escriba un programa para generar un diccionario que contenga (y, y* y * y) tal que sea un número integral entre 1 y n (ambos incluidos). y luego el programa debe imprimir el diccionario. Suponga que se suministra la siguiente entrada al programa: 8 Entonces, la salida debería ser: {1: 1, 2: 8, 3: 27, 4: 64}\n",
    "\n",
    "Sugerencias: En caso de que se suministren datos de entrada a la pregunta, debe asumirse que se trata de una entrada de consola. Considere el uso de dict()"
   ]
  },
  {
   "cell_type": "code",
   "execution_count": 22,
   "id": "0b78f436",
   "metadata": {},
   "outputs": [
    {
     "name": "stdout",
     "output_type": "stream",
     "text": [
      "5\n",
      "{1: 1, 2: 8, 3: 27, 4: 64, 5: 125}\n"
     ]
    }
   ],
   "source": [
    "n1=int(input())\n",
    "di=dict()\n",
    "for y in range ( 1, n1+1 ): \n",
    "    di[y]=y*y*y\n",
    "print(di)"
   ]
  },
  {
   "cell_type": "markdown",
   "id": "4f42bcee",
   "metadata": {},
   "source": [
    "# EJM 9\n",
    "Escribe un programa que calcule e imprima el valor según la fórmula dada:\n",
    "Q = Raíz cuadrada de [(2 * C * D)/H].\n",
    "A continuación se indican los valores fijos de C y H:\n",
    "C es 50. H es 30.\n",
    "D es la variable cuyos valores deben introducirse en el programa en una secuencia separada por comas.\n",
    "Ejemplo\n",
    "Supongamos que se da al programa la siguiente secuencia de entrada separada por comas:\n",
    "100,150,180\n",
    "La salida del programa debería ser:\n",
    "18,22,24\n",
    "\n",
    "Sugerencias:\n",
    "Si la salida recibida está en forma decimal, debe redondearse al valor más cercano (por ejemplo, si la salida recibida es 26.0, debe imprimirse como 26).\n",
    "En caso de que se suministren datos de entrada a la pregunta, debe suponerse que se trata de una entrada de consola. "
   ]
  },
  {
   "cell_type": "code",
   "execution_count": 27,
   "id": "1a21675f",
   "metadata": {},
   "outputs": [
    {
     "name": "stdout",
     "output_type": "stream",
     "text": [
      "10\n",
      "6\n"
     ]
    }
   ],
   "source": [
    "import math\n",
    "c=50\n",
    "h=30\n",
    "value = []\n",
    "items=[x for x in input().split(',')]\n",
    "for d in items:\n",
    "    value.append(str(int(round(math.sqrt(2*c*float(d)/h)))))\n",
    "\n",
    "print( ','.join(value))"
   ]
  },
  {
   "cell_type": "markdown",
   "id": "e319417a",
   "metadata": {},
   "source": [
    "# EJM 10\n",
    "Calculadora con adicion,resto, multiplicacion y división"
   ]
  },
  {
   "cell_type": "code",
   "execution_count": 31,
   "id": "6ee574ab",
   "metadata": {},
   "outputs": [
    {
     "name": "stdout",
     "output_type": "stream",
     "text": [
      "1. Addition\n",
      "2. Subtraction\n",
      "3. Multiplication\n",
      "4. Division\n",
      "5. Exit\n",
      "Enter choice from 1 to 5:1\n",
      "Enter first number:2\n",
      "Enter Second number:2\n",
      "Addition of   2.0  and  2.0  is  4.0\n",
      "1. Addition\n",
      "2. Subtraction\n",
      "3. Multiplication\n",
      "4. Division\n",
      "5. Exit\n",
      "Enter choice from 1 to 5:5\n"
     ]
    }
   ],
   "source": [
    "choice= 0\n",
    "while choice!=5:\n",
    "    print(\"1. Addition\")\n",
    "    print(\"2. Subtraction\")\n",
    "    print(\"3. Multiplication\")\n",
    "    print(\"4. Division\")\n",
    "    print(\"5. Exit\")\n",
    "    choice = int(input(\"Enter choice from 1 to 5:\"))\n",
    "    \n",
    "    if choice in range(1,4):\n",
    "        x = float(input(\"Enter first number:\"))\n",
    "        y = float(input(\"Enter Second number:\"))\n",
    "        if choice == 1:\n",
    "            z = x + y\n",
    "            print(\"Addition of  \",x,\" and \",y,\" is \",z)\n",
    "        elif choice == 2:\n",
    "            z = x - y\n",
    "            print(\"Subtraction of  \",x,\" and \",y,\" is \",z)\n",
    "        elif choice == 3:\n",
    "            z = x * y\n",
    "            print(\"Multiplication of  \",x,\" and \",y,\" is \",z)\n",
    "        else:\n",
    "            z = x / y\n",
    "            print(\"Division of  \",x,\" and \",y,\" is \",z)\n",
    "    elif choice == 5:\n",
    "        break\n",
    "    else:\n",
    "        print(\"Invalid choice!! Please retry\")"
   ]
  },
  {
   "cell_type": "code",
   "execution_count": null,
   "id": "17e5c387",
   "metadata": {},
   "outputs": [],
   "source": []
  }
 ],
 "metadata": {
  "kernelspec": {
   "display_name": "Python 3",
   "language": "python",
   "name": "python3"
  },
  "language_info": {
   "codemirror_mode": {
    "name": "ipython",
    "version": 3
   },
   "file_extension": ".py",
   "mimetype": "text/x-python",
   "name": "python",
   "nbconvert_exporter": "python",
   "pygments_lexer": "ipython3",
   "version": "3.8.8"
  }
 },
 "nbformat": 4,
 "nbformat_minor": 5
}
